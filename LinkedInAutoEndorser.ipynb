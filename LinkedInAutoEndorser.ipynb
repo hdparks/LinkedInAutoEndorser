{
 "cells": [
  {
   "cell_type": "code",
   "execution_count": 11,
   "metadata": {
    "colab": {},
    "colab_type": "code",
    "id": "Ue6ERk2l0Gvd"
   },
   "outputs": [
    {
     "name": "stdout",
     "output_type": "stream",
     "text": [
      "Requirement already satisfied: selenium in /users/guest/h/hdparkin/anaconda3/lib/python3.7/site-packages (3.141.0)\n",
      "Requirement already satisfied: urllib3 in /users/guest/h/hdparkin/anaconda3/lib/python3.7/site-packages (from selenium) (1.24.1)\n",
      "Requirement already satisfied: webdriver_manager in /users/guest/h/hdparkin/anaconda3/lib/python3.7/site-packages (1.8.2)\n",
      "Requirement already satisfied: requests in /users/guest/h/hdparkin/anaconda3/lib/python3.7/site-packages (from webdriver_manager) (2.21.0)\n",
      "Requirement already satisfied: configparser in /users/guest/h/hdparkin/anaconda3/lib/python3.7/site-packages (from webdriver_manager) (4.0.2)\n",
      "Requirement already satisfied: crayons in /users/guest/h/hdparkin/anaconda3/lib/python3.7/site-packages (from webdriver_manager) (0.2.0)\n",
      "Requirement already satisfied: idna<2.9,>=2.5 in /users/guest/h/hdparkin/anaconda3/lib/python3.7/site-packages (from requests->webdriver_manager) (2.8)\n",
      "Requirement already satisfied: certifi>=2017.4.17 in /users/guest/h/hdparkin/anaconda3/lib/python3.7/site-packages (from requests->webdriver_manager) (2019.3.9)\n",
      "Requirement already satisfied: chardet<3.1.0,>=3.0.2 in /users/guest/h/hdparkin/anaconda3/lib/python3.7/site-packages (from requests->webdriver_manager) (3.0.4)\n",
      "Requirement already satisfied: urllib3<1.25,>=1.21.1 in /users/guest/h/hdparkin/anaconda3/lib/python3.7/site-packages (from requests->webdriver_manager) (1.24.1)\n",
      "Requirement already satisfied: colorama in /users/guest/h/hdparkin/anaconda3/lib/python3.7/site-packages (from crayons->webdriver_manager) (0.4.1)\n"
     ]
    }
   ],
   "source": [
    "# Import selenium\n",
    "\n",
    "!pip install selenium\n",
    "!pip install webdriver_manager\n",
    "\n",
    "from selenium import webdriver\n",
    "from selenium.common.exceptions import NoSuchElementException\n",
    "from webdriver_manager.chrome import ChromeDriverManager\n",
    "import time"
   ]
  },
  {
   "cell_type": "markdown",
   "metadata": {
    "colab_type": "text",
    "id": "76BLwQWX1IJd"
   },
   "source": [
    "### Welcome!\n",
    "\n",
    "This tool was made to quickly allow you to update your own LinkedIn Profile with ACME related skills, as well as endorse the skills of your friends and classmates.\n",
    "\n",
    "\n",
    "##1.1\n",
    "Here, define the skills you want to add to your resume:\n"
   ]
  },
  {
   "cell_type": "code",
   "execution_count": 14,
   "metadata": {
    "colab": {},
    "colab_type": "code",
    "id": "sLk1k76J4pF_"
   },
   "outputs": [],
   "source": [
    "# # Define a list called my_skills, whose elements are strings of skills you want to add to your profile\n",
    "\n",
    "# my_skills = [\"Python\",\n",
    "#              \"Numpy\",\n",
    "#              \"Mathematical Modeling\",\n",
    "#              \"Algorithms\",\n",
    "#              \"Probability and Statistics\",\n",
    "#              \"Data Analysis\",\n",
    "#              \"Machine Learning\",\n",
    "#              ]\n",
    "my_skills = [\"Selenium\"]\n",
    "\n",
    "\n",
    "# Define a string variable my_profile_url, which is the url of your linkedin profile\n",
    "# my_profile_url = \"https://www.linkedin.com/in/< your url here >/\"\n",
    "my_profile_url = \"https://www.linkedin.com/in/hayden-parkinson-153780116/\"\n",
    "\n",
    "\n",
    "# # Define string variables with your email and password\n",
    "# my_email = \"example@email.com\"\n",
    "# my_password = \"password123\"\n",
    "my_email = \"haydendparkinson@gmail.com\"\n",
    "my_password = \"Guitarhero1\""
   ]
  },
  {
   "cell_type": "code",
   "execution_count": 15,
   "metadata": {
    "colab": {
     "base_uri": "https://localhost:8080/",
     "height": 479
    },
    "colab_type": "code",
    "id": "8ymHu5QW0q2Y",
    "outputId": "afc47e91-e9f8-413b-a778-c9497440909b"
   },
   "outputs": [
    {
     "name": "stdout",
     "output_type": "stream",
     "text": [
      "\n",
      "Checking for linux64 chromedriver:76.0.3809.126 in cache\n",
      "Driver found in /users/guest/h/hdparkin/.wdm/chromedriver/76.0.3809.126/linux64/chromedriver\n",
      "Could not find Sign In button\n"
     ]
    },
    {
     "ename": "NoSuchElementException",
     "evalue": "Message: no such element: Unable to locate element: {\"method\":\"partial link text\",\"selector\":\"https://www.linkedin.com/uas/login?\"}\n  (Session info: chrome=76.0.3809.132)\n",
     "output_type": "error",
     "traceback": [
      "\u001b[0;31m---------------------------------------------------------------------------\u001b[0m",
      "\u001b[0;31mNoSuchElementException\u001b[0m                    Traceback (most recent call last)",
      "\u001b[0;32m<ipython-input-15-0220fff4a0ee>\u001b[0m in \u001b[0;36m<module>\u001b[0;34m\u001b[0m\n\u001b[1;32m     12\u001b[0m     \u001b[0;31m# Find and click the sign-in button\u001b[0m\u001b[0;34m\u001b[0m\u001b[0;34m\u001b[0m\u001b[0;34m\u001b[0m\u001b[0m\n\u001b[1;32m     13\u001b[0m     \u001b[0mtime\u001b[0m\u001b[0;34m.\u001b[0m\u001b[0msleep\u001b[0m\u001b[0;34m(\u001b[0m\u001b[0;36m1\u001b[0m\u001b[0;34m)\u001b[0m\u001b[0;34m\u001b[0m\u001b[0;34m\u001b[0m\u001b[0m\n\u001b[0;32m---> 14\u001b[0;31m     \u001b[0msign_in_button\u001b[0m \u001b[0;34m=\u001b[0m \u001b[0mbrowser\u001b[0m\u001b[0;34m.\u001b[0m\u001b[0mfind_element_by_partial_link_text\u001b[0m\u001b[0;34m(\u001b[0m\u001b[0;34m\"https://www.linkedin.com/uas/login?\"\u001b[0m\u001b[0;34m)\u001b[0m\u001b[0;34m\u001b[0m\u001b[0;34m\u001b[0m\u001b[0m\n\u001b[0m\u001b[1;32m     15\u001b[0m     \u001b[0msign_in_button\u001b[0m\u001b[0;34m.\u001b[0m\u001b[0mclick\u001b[0m\u001b[0;34m(\u001b[0m\u001b[0;34m)\u001b[0m\u001b[0;34m\u001b[0m\u001b[0;34m\u001b[0m\u001b[0m\n\u001b[1;32m     16\u001b[0m \u001b[0;34m\u001b[0m\u001b[0m\n",
      "\u001b[0;32m~/anaconda3/lib/python3.7/site-packages/selenium/webdriver/remote/webdriver.py\u001b[0m in \u001b[0;36mfind_element_by_partial_link_text\u001b[0;34m(self, link_text)\u001b[0m\n\u001b[1;32m    460\u001b[0m             \u001b[0melement\u001b[0m \u001b[0;34m=\u001b[0m \u001b[0mdriver\u001b[0m\u001b[0;34m.\u001b[0m\u001b[0mfind_element_by_partial_link_text\u001b[0m\u001b[0;34m(\u001b[0m\u001b[0;34m'Sign'\u001b[0m\u001b[0;34m)\u001b[0m\u001b[0;34m\u001b[0m\u001b[0;34m\u001b[0m\u001b[0m\n\u001b[1;32m    461\u001b[0m         \"\"\"\n\u001b[0;32m--> 462\u001b[0;31m         \u001b[0;32mreturn\u001b[0m \u001b[0mself\u001b[0m\u001b[0;34m.\u001b[0m\u001b[0mfind_element\u001b[0m\u001b[0;34m(\u001b[0m\u001b[0mby\u001b[0m\u001b[0;34m=\u001b[0m\u001b[0mBy\u001b[0m\u001b[0;34m.\u001b[0m\u001b[0mPARTIAL_LINK_TEXT\u001b[0m\u001b[0;34m,\u001b[0m \u001b[0mvalue\u001b[0m\u001b[0;34m=\u001b[0m\u001b[0mlink_text\u001b[0m\u001b[0;34m)\u001b[0m\u001b[0;34m\u001b[0m\u001b[0;34m\u001b[0m\u001b[0m\n\u001b[0m\u001b[1;32m    463\u001b[0m \u001b[0;34m\u001b[0m\u001b[0m\n\u001b[1;32m    464\u001b[0m     \u001b[0;32mdef\u001b[0m \u001b[0mfind_elements_by_partial_link_text\u001b[0m\u001b[0;34m(\u001b[0m\u001b[0mself\u001b[0m\u001b[0;34m,\u001b[0m \u001b[0mlink_text\u001b[0m\u001b[0;34m)\u001b[0m\u001b[0;34m:\u001b[0m\u001b[0;34m\u001b[0m\u001b[0;34m\u001b[0m\u001b[0m\n",
      "\u001b[0;32m~/anaconda3/lib/python3.7/site-packages/selenium/webdriver/remote/webdriver.py\u001b[0m in \u001b[0;36mfind_element\u001b[0;34m(self, by, value)\u001b[0m\n\u001b[1;32m    976\u001b[0m         return self.execute(Command.FIND_ELEMENT, {\n\u001b[1;32m    977\u001b[0m             \u001b[0;34m'using'\u001b[0m\u001b[0;34m:\u001b[0m \u001b[0mby\u001b[0m\u001b[0;34m,\u001b[0m\u001b[0;34m\u001b[0m\u001b[0;34m\u001b[0m\u001b[0m\n\u001b[0;32m--> 978\u001b[0;31m             'value': value})['value']\n\u001b[0m\u001b[1;32m    979\u001b[0m \u001b[0;34m\u001b[0m\u001b[0m\n\u001b[1;32m    980\u001b[0m     \u001b[0;32mdef\u001b[0m \u001b[0mfind_elements\u001b[0m\u001b[0;34m(\u001b[0m\u001b[0mself\u001b[0m\u001b[0;34m,\u001b[0m \u001b[0mby\u001b[0m\u001b[0;34m=\u001b[0m\u001b[0mBy\u001b[0m\u001b[0;34m.\u001b[0m\u001b[0mID\u001b[0m\u001b[0;34m,\u001b[0m \u001b[0mvalue\u001b[0m\u001b[0;34m=\u001b[0m\u001b[0;32mNone\u001b[0m\u001b[0;34m)\u001b[0m\u001b[0;34m:\u001b[0m\u001b[0;34m\u001b[0m\u001b[0;34m\u001b[0m\u001b[0m\n",
      "\u001b[0;32m~/anaconda3/lib/python3.7/site-packages/selenium/webdriver/remote/webdriver.py\u001b[0m in \u001b[0;36mexecute\u001b[0;34m(self, driver_command, params)\u001b[0m\n\u001b[1;32m    319\u001b[0m         \u001b[0mresponse\u001b[0m \u001b[0;34m=\u001b[0m \u001b[0mself\u001b[0m\u001b[0;34m.\u001b[0m\u001b[0mcommand_executor\u001b[0m\u001b[0;34m.\u001b[0m\u001b[0mexecute\u001b[0m\u001b[0;34m(\u001b[0m\u001b[0mdriver_command\u001b[0m\u001b[0;34m,\u001b[0m \u001b[0mparams\u001b[0m\u001b[0;34m)\u001b[0m\u001b[0;34m\u001b[0m\u001b[0;34m\u001b[0m\u001b[0m\n\u001b[1;32m    320\u001b[0m         \u001b[0;32mif\u001b[0m \u001b[0mresponse\u001b[0m\u001b[0;34m:\u001b[0m\u001b[0;34m\u001b[0m\u001b[0;34m\u001b[0m\u001b[0m\n\u001b[0;32m--> 321\u001b[0;31m             \u001b[0mself\u001b[0m\u001b[0;34m.\u001b[0m\u001b[0merror_handler\u001b[0m\u001b[0;34m.\u001b[0m\u001b[0mcheck_response\u001b[0m\u001b[0;34m(\u001b[0m\u001b[0mresponse\u001b[0m\u001b[0;34m)\u001b[0m\u001b[0;34m\u001b[0m\u001b[0;34m\u001b[0m\u001b[0m\n\u001b[0m\u001b[1;32m    322\u001b[0m             response['value'] = self._unwrap_value(\n\u001b[1;32m    323\u001b[0m                 response.get('value', None))\n",
      "\u001b[0;32m~/anaconda3/lib/python3.7/site-packages/selenium/webdriver/remote/errorhandler.py\u001b[0m in \u001b[0;36mcheck_response\u001b[0;34m(self, response)\u001b[0m\n\u001b[1;32m    240\u001b[0m                 \u001b[0malert_text\u001b[0m \u001b[0;34m=\u001b[0m \u001b[0mvalue\u001b[0m\u001b[0;34m[\u001b[0m\u001b[0;34m'alert'\u001b[0m\u001b[0;34m]\u001b[0m\u001b[0;34m.\u001b[0m\u001b[0mget\u001b[0m\u001b[0;34m(\u001b[0m\u001b[0;34m'text'\u001b[0m\u001b[0;34m)\u001b[0m\u001b[0;34m\u001b[0m\u001b[0;34m\u001b[0m\u001b[0m\n\u001b[1;32m    241\u001b[0m             \u001b[0;32mraise\u001b[0m \u001b[0mexception_class\u001b[0m\u001b[0;34m(\u001b[0m\u001b[0mmessage\u001b[0m\u001b[0;34m,\u001b[0m \u001b[0mscreen\u001b[0m\u001b[0;34m,\u001b[0m \u001b[0mstacktrace\u001b[0m\u001b[0;34m,\u001b[0m \u001b[0malert_text\u001b[0m\u001b[0;34m)\u001b[0m\u001b[0;34m\u001b[0m\u001b[0;34m\u001b[0m\u001b[0m\n\u001b[0;32m--> 242\u001b[0;31m         \u001b[0;32mraise\u001b[0m \u001b[0mexception_class\u001b[0m\u001b[0;34m(\u001b[0m\u001b[0mmessage\u001b[0m\u001b[0;34m,\u001b[0m \u001b[0mscreen\u001b[0m\u001b[0;34m,\u001b[0m \u001b[0mstacktrace\u001b[0m\u001b[0;34m)\u001b[0m\u001b[0;34m\u001b[0m\u001b[0;34m\u001b[0m\u001b[0m\n\u001b[0m\u001b[1;32m    243\u001b[0m \u001b[0;34m\u001b[0m\u001b[0m\n\u001b[1;32m    244\u001b[0m     \u001b[0;32mdef\u001b[0m \u001b[0m_value_or_default\u001b[0m\u001b[0;34m(\u001b[0m\u001b[0mself\u001b[0m\u001b[0;34m,\u001b[0m \u001b[0mobj\u001b[0m\u001b[0;34m,\u001b[0m \u001b[0mkey\u001b[0m\u001b[0;34m,\u001b[0m \u001b[0mdefault\u001b[0m\u001b[0;34m)\u001b[0m\u001b[0;34m:\u001b[0m\u001b[0;34m\u001b[0m\u001b[0;34m\u001b[0m\u001b[0m\n",
      "\u001b[0;31mNoSuchElementException\u001b[0m: Message: no such element: Unable to locate element: {\"method\":\"partial link text\",\"selector\":\"https://www.linkedin.com/uas/login?\"}\n  (Session info: chrome=76.0.3809.132)\n"
     ]
    }
   ],
   "source": [
    "# Once the above variables are defined, run this block to automatically add the skills to your LinkedIn profile \n",
    "\n",
    "\n",
    "browser = webdriver.Chrome(ChromeDriverManager().install())\n",
    "\n",
    "try:\n",
    "\n",
    "  # Navigate to my LinkedIn profile page\n",
    "  browser.get(my_profile_url)\n",
    "  \n",
    "  try:\n",
    "    # Find and click the sign-in button\n",
    "    time.sleep(1)\n",
    "    sign_in_button = browser.find_element_by_partial_link_text(\"https://www.linkedin.com/uas/login?\")\n",
    "    sign_in_button.click()\n",
    "    \n",
    "  except NoSuchElementException:\n",
    "    print(\"Could not find Sign In button\")\n",
    "    raise\n",
    "    \n",
    "  try:\n",
    "    # Find the email and password fields\n",
    "    email_input = browser.find_element_by_id(\"username\")\n",
    "    password_input = browser.find_element_by_id(\"password\")\n",
    "    \n",
    "    # Send the my_email variable to email_input, and my_password to password_input\n",
    "    email_input.send_keys( my_email )\n",
    "    password_input.send_keys( my_password )\n",
    "    password_input.submit() # Press enter\n",
    "    \n",
    "  except NoSuchElementException:\n",
    "    print(\"Could not find Email or Password fields for signing in\")\n",
    "    raise\n",
    "    \n",
    "  try:\n",
    "    # Look for the \"Add a new skill\" button\n",
    "    add_skill_button = browser.find_element_by_partial_link_text(\"/detail/skills/add/\")\n",
    "    add_skill_button.click()\n",
    "  \n",
    "  except NoSuchElementException:\n",
    "      print(\"Could not find 'Add a new skill' button\")\n",
    "      raise\n",
    "  \n",
    "  try:\n",
    "    # Look for the skill input field\n",
    "    skill_input_field = browser.find_element_by_css_selector(\"input.ember-text-field.ember-view\")\n",
    "    \n",
    "    # Add each of my many awesome skills\n",
    "    for skill in my_skills:\n",
    "      skill_input_field.send_keys(skill)\n",
    "      skill_input_field.submit()\n",
    "      \n",
    "  except NoSuchElementException:\n",
    "      print(\"Could not find skill input field\")\n",
    "      raise\n",
    "      \n",
    "  try:\n",
    "    # Finally, click the add button to submit my new skills\n",
    "    add_button = browser.find_element_by_css_selector(\"button.artdeco-button.ml2.fr.ember-view\")\n",
    "    add_button.click()\n",
    "    \n",
    "  except NoSuchElementException:\n",
    "    print(\"Could not find skill input field\")\n",
    "    raise\n",
    "    \n",
    "  print(\"Congratulations, you have skills!\")\n",
    "  \n",
    "finally:\n",
    "  browser.close()"
   ]
  },
  {
   "cell_type": "code",
   "execution_count": null,
   "metadata": {
    "colab": {},
    "colab_type": "code",
    "id": "ZfEkoidnEZms"
   },
   "outputs": [],
   "source": []
  },
  {
   "cell_type": "code",
   "execution_count": null,
   "metadata": {},
   "outputs": [],
   "source": []
  },
  {
   "cell_type": "code",
   "execution_count": null,
   "metadata": {},
   "outputs": [],
   "source": []
  }
 ],
 "metadata": {
  "colab": {
   "collapsed_sections": [],
   "name": "LinkedInAutoEndorser.ipynb",
   "provenance": []
  },
  "kernelspec": {
   "display_name": "Python 3",
   "language": "python",
   "name": "python3"
  },
  "language_info": {
   "codemirror_mode": {
    "name": "ipython",
    "version": 3
   },
   "file_extension": ".py",
   "mimetype": "text/x-python",
   "name": "python",
   "nbconvert_exporter": "python",
   "pygments_lexer": "ipython3",
   "version": "3.7.3"
  }
 },
 "nbformat": 4,
 "nbformat_minor": 1
}
